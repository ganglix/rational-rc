{
 "cells": [
  {
   "cell_type": "markdown",
   "metadata": {},
   "source": [
    "# run cracking"
   ]
  },
  {
   "cell_type": "code",
   "execution_count": 1,
   "metadata": {
    "pycharm": {
     "is_executing": false
    }
   },
   "outputs": [],
   "source": [
    "%matplotlib inline\n",
    "\n",
    "%load_ext autoreload\n",
    "%autoreload 2\n",
    "\n",
    "from helper_func import *\n",
    "from cracking import Cracking_Model"
   ]
  },
  {
   "cell_type": "markdown",
   "metadata": {},
   "source": [
    "# case study"
   ]
  },
  {
   "cell_type": "code",
   "execution_count": 2,
   "metadata": {
    "pycharm": {
     "is_executing": false
    }
   },
   "outputs": [],
   "source": [
    "class Param: pass\n",
    "raw_pars = Param()\n",
    "\n",
    "r0_bar_mean = 5e-3\n",
    "x_loss_mean = 12.5e-6*0.6 # m\n",
    "cover_mean = 4e-2\n",
    "f_t_mean=5.\n",
    "E_0_mean=32e3\n",
    "\n",
    "raw_pars.r0_bar = Normal_custom(r0_bar_mean, 0.1*r0_bar_mean, non_negative=True)\n",
    "raw_pars.x_loss = Normal_custom(x_loss_mean, 0.1*x_loss_mean, non_negative=True)\n",
    "raw_pars.cover = Normal_custom(cover_mean, 0.1*cover_mean, non_negative=True)\n",
    "raw_pars.f_t = Normal_custom(f_t_mean, 0.1*f_t_mean, non_negative=True)\n",
    "raw_pars.E_0 = Normal_custom(E_0_mean, 0.1*E_0_mean, non_negative=True)\n",
    "raw_pars.w_c = Normal_custom(0.5, 0.1*0.6, non_negative=True)\n",
    "raw_pars.r_v = Beta_custom(2.96, 2.96*0.05, 3.3, 2.6)  # volumetric expansion rate  2.96 lower 2.6  upper: 3.3\n",
    "\n"
   ]
  },
  {
   "cell_type": "code",
   "execution_count": 3,
   "metadata": {
    "pycharm": {
     "is_executing": false
    }
   },
   "outputs": [
    {
     "name": "stderr",
     "output_type": "stream",
     "text": [
      "/Users/gangli/Local Documents/Mitacs project local/Tinkrete_beta 0.2/cracking.py:56: RuntimeWarning: invalid value encountered in less_equal\n",
      "  idx_0 = np.where(epsilon_theta <= epsilon_cr)\n",
      "/Users/gangli/Local Documents/Mitacs project local/Tinkrete_beta 0.2/cracking.py:59: RuntimeWarning: invalid value encountered in greater\n",
      "  idx_1 = np.where((epsilon_theta > epsilon_cr) & (epsilon_theta <= epsilon_1))\n",
      "/Users/gangli/Local Documents/Mitacs project local/Tinkrete_beta 0.2/cracking.py:59: RuntimeWarning: invalid value encountered in less_equal\n",
      "  idx_1 = np.where((epsilon_theta > epsilon_cr) & (epsilon_theta <= epsilon_1))\n",
      "/Users/gangli/Local Documents/Mitacs project local/Tinkrete_beta 0.2/cracking.py:62: RuntimeWarning: invalid value encountered in greater\n",
      "  idx_2 = np.where((epsilon_theta > epsilon_1) & (epsilon_theta <= epsilon_u))\n",
      "/Users/gangli/Local Documents/Mitacs project local/Tinkrete_beta 0.2/cracking.py:62: RuntimeWarning: invalid value encountered in less_equal\n",
      "  idx_2 = np.where((epsilon_theta > epsilon_1) & (epsilon_theta <= epsilon_u))\n"
     ]
    },
    {
     "name": "stdout",
     "output_type": "stream",
     "text": [
      "CPU times: user 10.1 s, sys: 150 ms, total: 10.3 s\n",
      "Wall time: 10.3 s\n"
     ]
    }
   ],
   "source": [
    "M = Cracking_Model(raw_pars)\n",
    "# M.run(stochastic=False)\n",
    "%time M.run(stochastic=True)"
   ]
  },
  {
   "cell_type": "code",
   "execution_count": 14,
   "metadata": {},
   "outputs": [
    {
     "name": "stderr",
     "output_type": "stream",
     "text": [
      "/Users/gangli/Local Documents/Mitacs project local/Tinkrete_beta 0.2/cracking.py:56: RuntimeWarning: invalid value encountered in less_equal\n",
      "  idx_0 = np.where(epsilon_theta <= epsilon_cr)\n",
      "/Users/gangli/Local Documents/Mitacs project local/Tinkrete_beta 0.2/cracking.py:59: RuntimeWarning: invalid value encountered in greater\n",
      "  idx_1 = np.where((epsilon_theta > epsilon_cr) & (epsilon_theta <= epsilon_1))\n",
      "/Users/gangli/Local Documents/Mitacs project local/Tinkrete_beta 0.2/cracking.py:59: RuntimeWarning: invalid value encountered in less_equal\n",
      "  idx_1 = np.where((epsilon_theta > epsilon_cr) & (epsilon_theta <= epsilon_1))\n",
      "/Users/gangli/Local Documents/Mitacs project local/Tinkrete_beta 0.2/cracking.py:62: RuntimeWarning: invalid value encountered in greater\n",
      "  idx_2 = np.where((epsilon_theta > epsilon_1) & (epsilon_theta <= epsilon_u))\n",
      "/Users/gangli/Local Documents/Mitacs project local/Tinkrete_beta 0.2/cracking.py:62: RuntimeWarning: invalid value encountered in less_equal\n",
      "  idx_2 = np.where((epsilon_theta > epsilon_1) & (epsilon_theta <= epsilon_u))\n"
     ]
    },
    {
     "name": "stdout",
     "output_type": "stream",
     "text": [
      " "
     ]
    }
   ],
   "source": [
    "%prun -s cumulative M.run(stochastic=True)"
   ]
  },
  {
   "cell_type": "code",
   "execution_count": 4,
   "metadata": {
    "pycharm": {
     "is_executing": false
    }
   },
   "outputs": [
    {
     "name": "stdout",
     "output_type": "stream",
     "text": [
      "for stochastic solution only\n",
      "0.0\n"
     ]
    }
   ],
   "source": [
    "M.postproc()\n",
    "print(M.crack_visible_rate_count)"
   ]
  },
  {
   "cell_type": "code",
   "execution_count": 5,
   "metadata": {
    "pycharm": {
     "is_executing": false
    }
   },
   "outputs": [
    {
     "data": {
      "text/plain": [
       "(array([70515.,     0.,     0.,     0.,     0.,     0.,     0.,     0.,\n",
       "            0., 29485.]),\n",
       " array([0. , 0.1, 0.2, 0.3, 0.4, 0.5, 0.6, 0.7, 0.8, 0.9, 1. ]),\n",
       " <a list of 10 Patch objects>)"
      ]
     },
     "execution_count": 5,
     "metadata": {},
     "output_type": "execute_result"
    },
    {
     "data": {
      "image/png": "[encoded data removed]",
      "text/plain": [
       "<Figure size 432x288 with 1 Axes>"
      ]
     },
     "metadata": {
      "needs_background": "light"
     },
     "output_type": "display_data"
    }
   ],
   "source": [
    "plt.figure()\n",
    "plt.hist(M.crack_condition)"
   ]
  },
  {
   "cell_type": "code",
   "execution_count": 6,
   "metadata": {
    "pycharm": {
     "is_executing": false
    },
    "scrolled": false
   },
   "outputs": [
    {
     "data": {
      "image/png": "[encoded data removed]",
      "text/plain": [
       "<Figure size 432x288 with 1 Axes>"
      ]
     },
     "metadata": {
      "needs_background": "light"
     },
     "output_type": "display_data"
    }
   ],
   "source": [
    "Hist_custom(M.crack_length_over_cover[M.crack_length_over_cover != 0])"
   ]
  },
  {
   "cell_type": "code",
   "execution_count": null,
   "metadata": {},
   "outputs": [],
   "source": []
  },
  {
   "cell_type": "code",
   "execution_count": null,
   "metadata": {},
   "outputs": [],
   "source": []
  }
 ],
 "metadata": {
  "hide_input": false,
  "kernelspec": {
   "display_name": "Python 3",
   "language": "python",
   "name": "python3"
  },
  "language_info": {
   "codemirror_mode": {
    "name": "ipython",
    "version": 3
   },
   "file_extension": ".py",
   "mimetype": "text/x-python",
   "name": "python",
   "nbconvert_exporter": "python",
   "pygments_lexer": "ipython3",
   "version": "3.7.6"
  },
  "pycharm": {
   "stem_cell": {
    "cell_type": "raw",
    "metadata": {
     "collapsed": false
    },
    "source": []
   }
  },
  "varInspector": {
   "cols": {
    "lenName": 16,
    "lenType": 16,
    "lenVar": 40
   },
   "kernels_config": {
    "python": {
     "delete_cmd_postfix": "",
     "delete_cmd_prefix": "del ",
     "library": "var_list.py",
     "varRefreshCmd": "print(var_dic_list())"
    },
    "r": {
     "delete_cmd_postfix": ") ",
     "delete_cmd_prefix": "rm(",
     "library": "var_list.r",
     "varRefreshCmd": "cat(var_dic_list()) "
    }
   },
   "position": {
    "height": "422px",
    "left": "1002px",
    "right": "20px",
    "top": "87px",
    "width": "350px"
   },
   "types_to_exclude": [
    "module",
    "function",
    "builtin_function_or_method",
    "instance",
    "_Feature"
   ],
   "window_display": false
  }
 },
 "nbformat": 4,
 "nbformat_minor": 4
}
